{
  "nbformat": 4,
  "nbformat_minor": 0,
  "metadata": {
    "colab": {
      "provenance": []
    },
    "kernelspec": {
      "name": "python3",
      "display_name": "Python 3"
    },
    "language_info": {
      "name": "python"
    }
  },
  "cells": [
    {
      "cell_type": "code",
      "execution_count": 153,
      "metadata": {
        "colab": {
          "base_uri": "https://localhost:8080/"
        },
        "id": "CmbQkfS7JXOE",
        "outputId": "93d181b4-b75d-44e3-f277-eb7eba088f19"
      },
      "outputs": [
        {
          "output_type": "stream",
          "name": "stdout",
          "text": [
            "Requirement already satisfied: textstat in /usr/local/lib/python3.10/dist-packages (0.7.3)\n",
            "Requirement already satisfied: pyphen in /usr/local/lib/python3.10/dist-packages (from textstat) (0.14.0)\n"
          ]
        },
        {
          "output_type": "stream",
          "name": "stderr",
          "text": [
            "[nltk_data] Downloading package stopwords to /root/nltk_data...\n",
            "[nltk_data]   Package stopwords is already up-to-date!\n",
            "[nltk_data] Downloading package punkt to /root/nltk_data...\n",
            "[nltk_data]   Package punkt is already up-to-date!\n",
            "[nltk_data] Downloading package averaged_perceptron_tagger to\n",
            "[nltk_data]     /root/nltk_data...\n",
            "[nltk_data]   Package averaged_perceptron_tagger is already up-to-\n",
            "[nltk_data]       date!\n",
            "[nltk_data] Downloading package vader_lexicon to /root/nltk_data...\n",
            "[nltk_data]   Package vader_lexicon is already up-to-date!\n"
          ]
        }
      ],
      "source": [
        "!pip install textstat\n",
        "import pandas as pd\n",
        "from sklearn.model_selection import train_test_split\n",
        "from keras.preprocessing.text import Tokenizer\n",
        "from keras.preprocessing.sequence import pad_sequences\n",
        "from textblob import TextBlob\n",
        "from sklearn.feature_extraction.text import TfidfVectorizer, CountVectorizer\n",
        "from sklearn.svm import SVC\n",
        "from sklearn.ensemble import RandomForestClassifier\n",
        "from sklearn.metrics import accuracy_score, classification_report, confusion_matrix\n",
        "from sklearn.preprocessing import MinMaxScaler\n",
        "from textstat import flesch_kincaid_grade\n",
        "from scipy.sparse import hstack\n",
        "from scipy.sparse import csr_matrix\n",
        "from IPython.display import display, HTML\n",
        "from nltk.corpus import stopwords\n",
        "import string\n",
        "import pickle\n",
        "import nltk\n",
        "from nltk import pos_tag\n",
        "from nltk.tokenize import word_tokenize\n",
        "from nltk.sentiment import SentimentIntensityAnalyzer\n",
        "import matplotlib.pyplot as plt\n",
        "import seaborn as sns\n",
        "nltk.download('stopwords')\n",
        "nltk.download('punkt')\n",
        "nltk.download('averaged_perceptron_tagger')\n",
        "nltk.download('vader_lexicon')\n",
        "stop_words = set(stopwords.words('english'))"
      ]
    },
    {
      "cell_type": "markdown",
      "source": [
        "**FUNCTIONS FOR THE APPLICATION**"
      ],
      "metadata": {
        "id": "B1iU6kOnNlAE"
      }
    },
    {
      "cell_type": "code",
      "source": [
        "def FeatureEngg(X_Data):\n",
        "  sia = SentimentIntensityAnalyzer()\n",
        "  X_Data['pos_tags'] = X_Data['text'].apply(lambda x: pos_tag(word_tokenize(x)))\n",
        "  X_Data['compound'] = X_Data['text'].apply(lambda x: sia.polarity_scores(x)['compound'])\n",
        "  X_Data['negative_emotional_expressions'] = X_Data['text'].apply(lambda x: x.count('hate') + x.count('fuck'))\n",
        "  X_Data['sentiment'] = X_Data['text'].apply(lambda x: TextBlob(str(x)).sentiment.polarity)\n",
        "  X_Data['exclamation_mark_count'] = X_Data['text'].apply(lambda x: x.count('!'))\n",
        "  X_Data['readability_scores'] = X_Data['text'].apply(flesch_kincaid_grade)\n",
        "  X_Data['uppercase_word_count'] = X_Data['text'].apply(lambda x: len([word for word in str(x).split() if word.isupper()]))\n",
        "  X_Data['stopword_count'] = X_Data['text'].apply(lambda x: len([word for word in str(x).lower().split() if word in stop_words]))\n",
        "  X_Data['punctuation_count'] = X_Data['text'].apply(lambda x: len([char for char in str(x) if char in string.punctuation]))\n",
        "  return X_Data\n",
        "\n",
        "def Gen_and_Stack_CSR(X_Data):\n",
        "  scaler = MinMaxScaler()\n",
        "  train_uwc = X_Data['uppercase_word_count'].values.reshape(-1, 1)\n",
        "  train_uwc = scaler.fit_transform(train_uwc)\n",
        "  train_uwc_matrix = csr_matrix(train_uwc)\n",
        "\n",
        "  train_EMC = X_Data['exclamation_mark_count'].values.reshape(-1, 1)\n",
        "  train_EMC = scaler.fit_transform(train_EMC)\n",
        "  train_EMC_matrix = csr_matrix(train_EMC)\n",
        "\n",
        "  train_stop = X_Data['stopword_count'].values.reshape(-1, 1)\n",
        "  train_stop = scaler.fit_transform(train_stop)\n",
        "  train_stop_matrix = csr_matrix(train_stop)\n",
        "\n",
        "  train_nee = X_Data['negative_emotional_expressions'].values.reshape(-1, 1)\n",
        "  train_nee = scaler.fit_transform(train_nee)\n",
        "  train_nee_matrix = csr_matrix(train_nee)\n",
        "\n",
        "  train_red = X_Data['readability_scores'].values.reshape(-1, 1)\n",
        "  train_red = scaler.fit_transform(train_red)\n",
        "  train_red_matrix = csr_matrix(train_red)\n",
        "\n",
        "  train_sentiment = X_Data['sentiment'].values.reshape(-1, 1)\n",
        "  train_sentiment = scaler.fit_transform(train_sentiment)\n",
        "  train_sentiment_matrix = csr_matrix(train_sentiment)\n",
        "\n",
        "  train_punc = X_Data['punctuation_count'].values.reshape(-1, 1)\n",
        "  train_punc = scaler.fit_transform(train_punc)\n",
        "  train_punc_matrix = csr_matrix(train_punc)\n",
        "\n",
        "  train_comp = X_Data['compound'].values.reshape(-1, 1)\n",
        "  train_comp = scaler.fit_transform(train_comp)\n",
        "  train_comp_matrix = csr_matrix(train_comp)\n",
        "\n",
        "  vectorizer = pickle.load(open(\"vectorizer.pickle\", \"rb\"))\n",
        "  X_train_tfidf = vectorizer.transform(X_Data['text'])\n",
        "\n",
        "  X_train_features = hstack([X_train_tfidf, train_sentiment_matrix, train_EMC_matrix, train_uwc_matrix,\n",
        "                           train_red_matrix, train_punc_matrix, train_stop_matrix, train_comp_matrix,\n",
        "                           train_comp_matrix])\n",
        "  return X_train_features\n",
        "\n",
        "def Predict(X_train_features):\n",
        "  filename = 'finalized_model.sav'\n",
        "  loaded_model = pickle.load(open(filename, 'rb'))\n",
        "  result = loaded_model.predict(X_train_features)\n",
        "  result2 = loaded_model.predict_proba(X_train_features)\n",
        "  return(result, result2)\n",
        "\n",
        "def AppendOutput(result, proba, df):\n",
        "  str_list=[]\n",
        "  for i in range(0, df.shape[0]):\n",
        "    str_list.append('{\"model_output\":\"%s\",\"confidence_score\":%.2f}' % (result[i], max(proba[i]) * 100))\n",
        "  df['model_output'] = str_list\n",
        "  return df\n",
        "\n",
        "def GeneratePlot(expected, predicted):\n",
        "  loaded_model = pickle.load(open('finalized_model.sav', 'rb'))\n",
        "  cm = confusion_matrix(expected, result)\n",
        "  plt.figure(figsize=(7, 5))\n",
        "  sns.heatmap(cm, annot=True, fmt='d', cmap='Blues', xticklabels=loaded_model.classes_, yticklabels=loaded_model.classes_)\n",
        "  plt.title('Confusion Matrix')\n",
        "  plt.xlabel('Predicted Label')\n",
        "  plt.ylabel('True Label')\n",
        "  plt.show()\n",
        "\n",
        "def Analyze_and_Append_result(csv):\n",
        "  df = pd.read_csv(csv)\n",
        "  X_Data2 = FeatureEngg(df)\n",
        "  X_Features = Gen_and_Stack_CSR(X_Data2)\n",
        "  result, proba = Predict(X_Features)\n",
        "  accuracy = accuracy_score(df['expected_sentiment'], result)\n",
        "  report = classification_report(df['expected_sentiment'], result)\n",
        "  print(f\"Accuracy: {accuracy}\")\n",
        "  print(\"\\nClassification Report:\\n\", report)\n",
        "  GeneratePlot(df['expected_sentiment'], result)\n",
        "  df2 = AppendOutput(result, proba, df)\n",
        "  df2.to_csv('Appended_with_Output')\n",
        "  print(\"CSV File Generated See the directory for now\")"
      ],
      "metadata": {
        "id": "0999m0GfQO-z"
      },
      "execution_count": 151,
      "outputs": []
    },
    {
      "cell_type": "markdown",
      "source": [
        "**EXAMPLE OUTPUT**"
      ],
      "metadata": {
        "id": "u-UKqlr7NyFM"
      }
    },
    {
      "cell_type": "code",
      "source": [
        "Analyze_and_Append_result('test_sentiment.csv')"
      ],
      "metadata": {
        "colab": {
          "base_uri": "https://localhost:8080/",
          "height": 730
        },
        "id": "C1KIqq2IJTUL",
        "outputId": "7880957d-bc5e-4c31-c8ff-45dfd0893de5"
      },
      "execution_count": 152,
      "outputs": [
        {
          "output_type": "stream",
          "name": "stdout",
          "text": [
            "Accuracy: 0.8\n",
            "\n",
            "Classification Report:\n",
            "               precision    recall  f1-score   support\n",
            "\n",
            "    negative       0.70      0.81      0.75        43\n",
            "     neutral       0.86      0.77      0.81        48\n",
            "    positive       0.84      0.81      0.83        59\n",
            "\n",
            "    accuracy                           0.80       150\n",
            "   macro avg       0.80      0.80      0.80       150\n",
            "weighted avg       0.81      0.80      0.80       150\n",
            "\n"
          ]
        },
        {
          "output_type": "display_data",
          "data": {
            "text/plain": [
              "<Figure size 700x500 with 2 Axes>"
            ],
            "image/png": "[encoded data removed]"
          },
          "metadata": {}
        },
        {
          "output_type": "stream",
          "name": "stdout",
          "text": [
            "CSV File Generated See the directory for now\n"
          ]
        }
      ]
    }
  ]
}